{
  "cells": [
    {
      "cell_type": "markdown",
      "metadata": {},
      "source": [
        "\n# Plot Profiles\n\nThis example demonstrates how to plot profiles of \nRMSE, bias, and totalspread.\n"
      ]
    },
    {
      "cell_type": "markdown",
      "metadata": {},
      "source": [
        "Import the obs_sequence module\nand the matplots module for plotting.\n\n"
      ]
    },
    {
      "cell_type": "code",
      "execution_count": null,
      "metadata": {
        "collapsed": false
      },
      "outputs": [],
      "source": [
        "import pydartdiags.obs_sequence.obs_sequence as obsq\nfrom pydartdiags.matplots import matplots as mp"
      ]
    },
    {
      "cell_type": "markdown",
      "metadata": {},
      "source": [
        "Chose an obs_seq file to read.\nIn this example, we are using a small obs_seq file \"obs_seq.final.1000\"\nthat comes with the pyDARTdiags package \nin the data directory, so we ``import os`` to get the path to the file.\n\n"
      ]
    },
    {
      "cell_type": "code",
      "execution_count": null,
      "metadata": {
        "collapsed": false
      },
      "outputs": [],
      "source": [
        "import os\ndata_dir = os.path.join(os.getcwd(), \"../..\", \"data\")\ndata_file = os.path.join(data_dir, \"obs_seq.final.1000\")"
      ]
    },
    {
      "cell_type": "markdown",
      "metadata": {},
      "source": [
        "Read the obs_seq file into an obs_seq object.\n\n"
      ]
    },
    {
      "cell_type": "code",
      "execution_count": null,
      "metadata": {
        "collapsed": false
      },
      "outputs": [],
      "source": [
        "obs_seq = obsq.obs_sequence(data_file)"
      ]
    },
    {
      "cell_type": "markdown",
      "metadata": {},
      "source": [
        "Chose an observation type.\nThe observation types are stored in the 'type' column.\nTo see which observation types are in the dataframe, use the unique method:\n\n"
      ]
    },
    {
      "cell_type": "code",
      "execution_count": null,
      "metadata": {
        "collapsed": false
      },
      "outputs": [],
      "source": [
        "obs_seq.df['type'].unique()"
      ]
    },
    {
      "cell_type": "markdown",
      "metadata": {},
      "source": [
        "For this example, we are going to look at the rank histogram for \nACARS_TEMPERATURE observations.\n\n"
      ]
    },
    {
      "cell_type": "code",
      "execution_count": null,
      "metadata": {
        "collapsed": false
      },
      "outputs": [],
      "source": [
        "type = 'ACARS_TEMPERATURE'\nhPalevels = [0.0, 100.0,  150.0, 200.0, 250.0, 300.0, 400.0, 500.0, 700, 850, 925, 1000]  # hPa\nlevels = [i * 100 for i in hPalevels]\n\nfig = mp.plot_profile(obs_seq, levels, type, bias=True, rmse=True, totalspread=True)"
      ]
    },
    {
      "cell_type": "markdown",
      "metadata": {},
      "source": [
        "To plot only the bias, set rmse=False and totalspread=False.\n\n"
      ]
    },
    {
      "cell_type": "code",
      "execution_count": null,
      "metadata": {
        "collapsed": false
      },
      "outputs": [],
      "source": [
        "fig = mp.plot_profile(obs_seq, levels, type, bias=True, rmse=False, totalspread=False)"
      ]
    }
  ],
  "metadata": {
    "kernelspec": {
      "display_name": "Python 3",
      "language": "python",
      "name": "python3"
    },
    "language_info": {
      "codemirror_mode": {
        "name": "ipython",
        "version": 3
      },
      "file_extension": ".py",
      "mimetype": "text/x-python",
      "name": "python",
      "nbconvert_exporter": "python",
      "pygments_lexer": "ipython3",
      "version": "3.13.2"
    }
  },
  "nbformat": 4,
  "nbformat_minor": 0
}