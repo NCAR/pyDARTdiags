{
  "cells": [
    {
      "cell_type": "markdown",
      "metadata": {},
      "source": [
        "\n# Finding Duplicates in a Observation Sequence\n\nThis example shows how to find duplicates in an observation sequence,\nand how to remove them.\n"
      ]
    },
    {
      "cell_type": "markdown",
      "metadata": {},
      "source": [
        "Import the obs_sequence module\n\n"
      ]
    },
    {
      "cell_type": "code",
      "execution_count": null,
      "metadata": {
        "collapsed": false
      },
      "outputs": [],
      "source": [
        "import os\nimport pydartdiags.obs_sequence.obs_sequence as obsq"
      ]
    },
    {
      "cell_type": "markdown",
      "metadata": {},
      "source": [
        "Read in the observation sequence file. In this example we'll use a real obs_seq file,\nthe NCEP+ACARS.201303_6H.obs_seq2013030306 file that comes with the pyDARTdiags package.\nThis is 6 hours of observations from March 3, 2013.\n\n"
      ]
    },
    {
      "cell_type": "code",
      "execution_count": null,
      "metadata": {
        "collapsed": false
      },
      "outputs": [],
      "source": [
        "data_dir = os.path.join(os.getcwd(), \"../..\", \"data\")\ndata_file = os.path.join(data_dir, \"NCEP+ACARS.201303_6H.obs_seq2013030306\")\n\nobs_seq = obsq.ObsSequence(data_file)"
      ]
    },
    {
      "cell_type": "markdown",
      "metadata": {},
      "source": [
        "How many observations are in the sequence?\n\n"
      ]
    },
    {
      "cell_type": "code",
      "execution_count": null,
      "metadata": {
        "collapsed": false
      },
      "outputs": [],
      "source": [
        "num_obs = len(obs_seq.df)\nprint(f\"Number of observations: {num_obs}\")"
      ]
    },
    {
      "cell_type": "markdown",
      "metadata": {},
      "source": [
        "How many of each type of observation are in the sequence?\n\n"
      ]
    },
    {
      "cell_type": "code",
      "execution_count": null,
      "metadata": {
        "collapsed": false
      },
      "outputs": [],
      "source": [
        "obs_seq.df.groupby('type')['type'].count()"
      ]
    },
    {
      "cell_type": "markdown",
      "metadata": {},
      "source": [
        "How many duplicates are there in the sequence? Lets pick the columns that we want to compare\nto determine if an observation is a duplicate. In this case we'll use latitude, longitude, vertical,\ntime, observation, and type. We'll use the 'duplicated' method to find the duplicates.\n\n"
      ]
    },
    {
      "cell_type": "code",
      "execution_count": null,
      "metadata": {
        "collapsed": false
      },
      "outputs": [],
      "source": [
        "columns_to_compare = ['latitude', 'longitude', 'vertical', 'time', 'observation', 'type']\nnum_dups = obs_seq.df.duplicated(subset=columns_to_compare).sum()\nprint(f\"Number of duplicates: {num_dups}\")"
      ]
    },
    {
      "cell_type": "markdown",
      "metadata": {},
      "source": [
        "Lets see how many duplicates there are for each type of observation.\nWe'll use the 'duplicated' method to find the duplicates.\n\n"
      ]
    },
    {
      "cell_type": "code",
      "execution_count": null,
      "metadata": {
        "collapsed": false
      },
      "outputs": [],
      "source": [
        "for obs_type in sorted(obs_seq.types.values()):\n    selected_rows = obs_seq.df[obs_seq.df['type'] == obs_type]\n    print(f\"duplicates in {obs_type}: \", selected_rows[columns_to_compare].duplicated().sum())"
      ]
    },
    {
      "cell_type": "markdown",
      "metadata": {},
      "source": [
        "Let's look at the duplicates in the 'LAND_SFC_ALTIMETER' type.\nWe're sorting by latitude to make it easier to see the duplicates.\n\n"
      ]
    },
    {
      "cell_type": "code",
      "execution_count": null,
      "metadata": {
        "collapsed": false
      },
      "outputs": [],
      "source": [
        "selected_rows = obs_seq.df[obs_seq.df['type'] == 'LAND_SFC_ALTIMETER']\nduplicate_mask = selected_rows[columns_to_compare].duplicated(keep=False)\nduplicate_rows = selected_rows[duplicate_mask]\n\nduplicate_rows.sort_values(by='latitude')"
      ]
    },
    {
      "cell_type": "markdown",
      "metadata": {},
      "source": [
        "Lets remove all the duplicates from the dataFrame\n\n"
      ]
    },
    {
      "cell_type": "code",
      "execution_count": null,
      "metadata": {
        "collapsed": false
      },
      "outputs": [],
      "source": [
        "obs_seq.df.drop_duplicates(subset=columns_to_compare, inplace=True)"
      ]
    },
    {
      "cell_type": "markdown",
      "metadata": {},
      "source": [
        "The number of obs has been reduced by the number of duplicates\n\n"
      ]
    },
    {
      "cell_type": "code",
      "execution_count": null,
      "metadata": {
        "collapsed": false
      },
      "outputs": [],
      "source": [
        "print(f\"Original number of observations: {num_obs}\")\nprint(f\"Number of duplicate observations: {num_dups}\")\nprint(f\"Number of observations after removing duplicates: {len(obs_seq.df)}\")"
      ]
    }
  ],
  "metadata": {
    "kernelspec": {
      "display_name": "Python 3",
      "language": "python",
      "name": "python3"
    },
    "language_info": {
      "codemirror_mode": {
        "name": "ipython",
        "version": 3
      },
      "file_extension": ".py",
      "mimetype": "text/x-python",
      "name": "python",
      "nbconvert_exporter": "python",
      "pygments_lexer": "ipython3",
      "version": "3.13.3"
    }
  },
  "nbformat": 4,
  "nbformat_minor": 0
}