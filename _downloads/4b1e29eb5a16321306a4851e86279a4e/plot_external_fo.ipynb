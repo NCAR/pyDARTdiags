{
  "cells": [
    {
      "cell_type": "markdown",
      "metadata": {},
      "source": [
        "\n# Adding External Forward Operators to an Observation\n\nExternal, or \"precomputed\" forward operators are forward operators\nthat are not calculated during ``filter``, DART's assimilation program. \nThey are calculated externally, written to an observation sequence file,\nand read in by ``filter``.  \n\nThis example shows how to add an external forward operator to an observation.\nWe'll be using observations for the Lorenz 96 tracer model, which is a toy\nmodel used to test assimilation algorithms.  We are going to create some \nRAW_TRACER_CONCENTRATION forward operators.\n"
      ]
    },
    {
      "cell_type": "markdown",
      "metadata": {},
      "source": [
        "Import the obs_sequence module, and numpy\n\n"
      ]
    },
    {
      "cell_type": "code",
      "execution_count": null,
      "metadata": {
        "collapsed": false
      },
      "outputs": [],
      "source": [
        "import os\nimport pydartdiags.obs_sequence.obs_sequence as obsq\nimport numpy as np"
      ]
    },
    {
      "cell_type": "markdown",
      "metadata": {},
      "source": [
        "Read in the observation sequence file. In this example we'll use the\nobs_seq.out.tracer file that comes with the pyDARTdiags package.\nThis file only has two observations. \n\n"
      ]
    },
    {
      "cell_type": "code",
      "execution_count": null,
      "metadata": {
        "collapsed": false
      },
      "outputs": [],
      "source": [
        "data_dir = os.path.join(os.getcwd(), \"../..\", \"data\")\ndata_file = os.path.join(data_dir, \"obs_seq.out.tracer\")\nobs_seq = obsq.ObsSequence(data_file)"
      ]
    },
    {
      "cell_type": "code",
      "execution_count": null,
      "metadata": {
        "collapsed": false
      },
      "outputs": [],
      "source": [
        "obs_seq.df"
      ]
    },
    {
      "cell_type": "markdown",
      "metadata": {},
      "source": [
        "The external forward operator is stored in the 'external_FO' column.\nCurrently, the 'external_FO' column is empty.\n\n"
      ]
    },
    {
      "cell_type": "code",
      "execution_count": null,
      "metadata": {
        "collapsed": false
      },
      "outputs": [],
      "source": [
        "obs_seq.df.iloc[0]['external_FO']"
      ]
    },
    {
      "cell_type": "markdown",
      "metadata": {},
      "source": [
        "Let's add a forward operator to the RAW_TRACER_CONCENTRATION observation.\nFor this example, we're going to use random numbers to create our ensemble\nof forward operators. For a scientific experiment, you would use appropriate \nforward operator results from your model. \nWe want 80 ensemble members, so we'll create 80 random numbers, and we want tracer\nconcentrations, so we'll force the numbers to be positive.\n\n"
      ]
    },
    {
      "cell_type": "code",
      "execution_count": null,
      "metadata": {
        "collapsed": false
      },
      "outputs": [],
      "source": [
        "n = 80\nrandom_numbers = np.abs(np.random.normal(loc=0.75, scale=0.1, size=n)).tolist()"
      ]
    },
    {
      "cell_type": "markdown",
      "metadata": {},
      "source": [
        "DART observation sequence files have a specific format. DART expects the list\nof forward operators to have 'external_FO' followed by the number of ensemble\nmembers, followed by the 'key' for the forward operator. The 'key' is not \nused by DART, so we will just put 1 for the value. \n\n"
      ]
    },
    {
      "cell_type": "code",
      "execution_count": null,
      "metadata": {
        "collapsed": false
      },
      "outputs": [],
      "source": [
        "random_numbers.insert(0, f'external_FO {n} 1')"
      ]
    },
    {
      "cell_type": "markdown",
      "metadata": {},
      "source": [
        "Now we can add the forward operator to the 'external_FO' column for row 0\n\n"
      ]
    },
    {
      "cell_type": "code",
      "execution_count": null,
      "metadata": {
        "collapsed": false
      },
      "outputs": [],
      "source": [
        "obs_seq.df.at[0,'external_FO'].extend(random_numbers)"
      ]
    },
    {
      "cell_type": "markdown",
      "metadata": {},
      "source": [
        "Now the 'external_FO' column has the forward operator.\n\n"
      ]
    },
    {
      "cell_type": "code",
      "execution_count": null,
      "metadata": {
        "collapsed": false
      },
      "outputs": [],
      "source": [
        "obs_seq.df.iloc[0]['external_FO']"
      ]
    },
    {
      "cell_type": "markdown",
      "metadata": {},
      "source": [
        "Let's write the observation sequence file with the new forward operator.\n\n"
      ]
    },
    {
      "cell_type": "code",
      "execution_count": null,
      "metadata": {
        "collapsed": false
      },
      "outputs": [],
      "source": [
        "obs_seq.write_obs_seq('obs_seq.out.tracer_with_external_FO')"
      ]
    }
  ],
  "metadata": {
    "kernelspec": {
      "display_name": "Python 3",
      "language": "python",
      "name": "python3"
    },
    "language_info": {
      "codemirror_mode": {
        "name": "ipython",
        "version": 3
      },
      "file_extension": ".py",
      "mimetype": "text/x-python",
      "name": "python",
      "nbconvert_exporter": "python",
      "pygments_lexer": "ipython3",
      "version": "3.13.5"
    }
  },
  "nbformat": 4,
  "nbformat_minor": 0
}