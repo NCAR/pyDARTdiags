{
  "cells": [
    {
      "cell_type": "markdown",
      "metadata": {},
      "source": [
        "\n# Join Observation Sequences\n\nThis example demonstrates how to read in two observation sequences \nand join them together.\n"
      ]
    },
    {
      "cell_type": "markdown",
      "metadata": {},
      "source": [
        "Import the obs_sequence module.\n\n"
      ]
    },
    {
      "cell_type": "code",
      "execution_count": null,
      "metadata": {
        "collapsed": false
      },
      "outputs": [],
      "source": [
        "import pydartdiags.obs_sequence.obs_sequence as obsq"
      ]
    },
    {
      "cell_type": "markdown",
      "metadata": {},
      "source": [
        "Chose the first obs_seq file to read.\nIn this example, we are using a small obs_seq file \"obs_seq.final.1000\"\nthat comes with the pyDARTdiags package \nin the data directory, so we ``import os`` to get the path to the file.\n\n"
      ]
    },
    {
      "cell_type": "code",
      "execution_count": null,
      "metadata": {
        "collapsed": false
      },
      "outputs": [],
      "source": [
        "import os\ndata_dir = os.path.join(os.getcwd(), \"../..\", \"data\")\ndata_file1 = os.path.join(data_dir, \"obs_seq.final.1000\")"
      ]
    },
    {
      "cell_type": "markdown",
      "metadata": {},
      "source": [
        "Read the obs_seq file into an obs_seq object.\n\n"
      ]
    },
    {
      "cell_type": "code",
      "execution_count": null,
      "metadata": {
        "collapsed": false
      },
      "outputs": [],
      "source": [
        "obs_seq1 = obsq.ObsSequence(data_file1)\n\nprint('obs_seq1 has assimilation info:', obs_seq1.has_assimilation_info())\nprint('obs_seq1 has posterior:', obs_seq1.has_posterior())"
      ]
    },
    {
      "cell_type": "markdown",
      "metadata": {},
      "source": [
        "Chose the second obs_seq file to read.\n\n"
      ]
    },
    {
      "cell_type": "code",
      "execution_count": null,
      "metadata": {
        "collapsed": false
      },
      "outputs": [],
      "source": [
        "data_file2 = os.path.join(data_dir, \"obs_seq.final.ascii.small\")\nobs_seq2 = obsq.ObsSequence(data_file2)\n\nprint('obs_seq2 has assimilation info:', obs_seq2.has_assimilation_info())\nprint('obs_seq2 has posterior:', obs_seq2.has_posterior())"
      ]
    },
    {
      "cell_type": "markdown",
      "metadata": {},
      "source": [
        "obs_seq1 has posterior information, but obs_seq2 does not.\nSo we will remove the posterior columns from obs_seq1 DataFrame, using the pandas\n`drop` method before joining the two obs_seq objects together.\n\n"
      ]
    },
    {
      "cell_type": "code",
      "execution_count": null,
      "metadata": {
        "collapsed": false
      },
      "outputs": [],
      "source": [
        "obs_seq1.df.drop(columns=obs_seq1.df.filter(like='posterior').columns, inplace=True)\nprint('obs_seq1 has posterior:', obs_seq1.has_posterior())"
      ]
    },
    {
      "cell_type": "markdown",
      "metadata": {},
      "source": [
        "Now, let's join the two obs_seq objects together using the join method.\n:meth:`obs_sequence.obs_sequence.join` is a class method, so it is called\non the obs_sequence class, which\nwe've imported as obsq. The method takes a list of obs_seq objects to join.\n\n"
      ]
    },
    {
      "cell_type": "code",
      "execution_count": null,
      "metadata": {
        "collapsed": false
      },
      "outputs": [],
      "source": [
        "obs_seq_mega = obsq.ObsSequence.join([obs_seq1, obs_seq2])\n\nprint(f'length of obs_seq1: {len(obs_seq1.df)}'), print(f'length of obs_seq2: {len(obs_seq2.df)}')\nprint(f'length of obs_seq_mega: {len(obs_seq_mega.df)}')\n\nobs_seq_mega.df.head()"
      ]
    },
    {
      "cell_type": "markdown",
      "metadata": {},
      "source": [
        "Now, the obs_seq_mega object has the observations from both obs_seq1 and obs_seq2.\nwith the prior columns from both obs_seq DataFrames.\n\n"
      ]
    },
    {
      "cell_type": "code",
      "execution_count": null,
      "metadata": {
        "collapsed": false
      },
      "outputs": [],
      "source": [
        "obs_seq_mega.df.columns"
      ]
    },
    {
      "cell_type": "markdown",
      "metadata": {},
      "source": [
        "You can pass a list of columns to the join method to only join the columns you want.\nFor example, if you only want to join the 'prior_mean' and 'prior_spread' columns, \nand discard the rest of the columns from the obs_seq objects,\nyou can do so like this:\n\n"
      ]
    },
    {
      "cell_type": "code",
      "execution_count": null,
      "metadata": {
        "collapsed": false
      },
      "outputs": [],
      "source": [
        "obs_seq_no_members = obsq.ObsSequence.join([obs_seq1, obs_seq2], \n                                            ['prior_ensemble_mean', \n                                             'prior_ensemble_spread'])"
      ]
    },
    {
      "cell_type": "markdown",
      "metadata": {},
      "source": [
        "Note, the join method will still include the required columns for the obs_seq object to function properly.\n\n"
      ]
    },
    {
      "cell_type": "code",
      "execution_count": null,
      "metadata": {
        "collapsed": false
      },
      "outputs": [],
      "source": [
        "obs_seq_no_members.df.columns"
      ]
    }
  ],
  "metadata": {
    "kernelspec": {
      "display_name": "Python 3",
      "language": "python",
      "name": "python3"
    },
    "language_info": {
      "codemirror_mode": {
        "name": "ipython",
        "version": 3
      },
      "file_extension": ".py",
      "mimetype": "text/x-python",
      "name": "python",
      "nbconvert_exporter": "python",
      "pygments_lexer": "ipython3",
      "version": "3.13.4"
    }
  },
  "nbformat": 4,
  "nbformat_minor": 0
}