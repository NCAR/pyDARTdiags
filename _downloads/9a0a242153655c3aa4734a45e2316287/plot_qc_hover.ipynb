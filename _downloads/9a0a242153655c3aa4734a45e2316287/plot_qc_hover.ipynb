{
  "cells": [
    {
      "cell_type": "markdown",
      "metadata": {},
      "source": [
        "\n# Geographic Plot of Observations to look at QC\n\nThis example demonstrates how to read and observation sequence\nfile, and plot the observations on a map, with the color\nindicating the QC value.\n"
      ]
    },
    {
      "cell_type": "markdown",
      "metadata": {},
      "source": [
        "Import the modules\n\n"
      ]
    },
    {
      "cell_type": "code",
      "execution_count": null,
      "metadata": {
        "collapsed": false
      },
      "outputs": [],
      "source": [
        "import os\nimport plotly.express as px\nimport pydartdiags.obs_sequence.obs_sequence as obsq"
      ]
    },
    {
      "cell_type": "markdown",
      "metadata": {},
      "source": [
        "Read the obs_seq file into an obs_seq object.\nIn this example, we use a small obs_seq file \"obs_seq.final.ascii.medium\"\nthat comes with the pyDARTdiags package \nin the data directory, so we use ``os`` to get the path to the file\n\n"
      ]
    },
    {
      "cell_type": "code",
      "execution_count": null,
      "metadata": {
        "collapsed": false
      },
      "outputs": [],
      "source": [
        "data_dir = os.path.join(os.getcwd(), \"../..\", \"data\")\ndata_file = os.path.join(data_dir, \"obs_seq.final.ascii.medium\")\n\nobs_seq = obsq.obs_sequence(data_file)"
      ]
    },
    {
      "cell_type": "markdown",
      "metadata": {},
      "source": [
        "Take a look at which columns are in the dataframe\n\n"
      ]
    },
    {
      "cell_type": "code",
      "execution_count": null,
      "metadata": {
        "collapsed": false
      },
      "outputs": [],
      "source": [
        "obs_seq.df.columns"
      ]
    },
    {
      "cell_type": "markdown",
      "metadata": {},
      "source": [
        "Plot the observations on a map.\nIn this case, the colors of the points\nwill indicate the DART quality control value\nand the hover data will show the observation number,\nthe observation value, the type of observation, and the QC value\n\n"
      ]
    },
    {
      "cell_type": "code",
      "execution_count": null,
      "metadata": {
        "collapsed": false
      },
      "outputs": [],
      "source": [
        "fig = px.scatter_geo(\n    obs_seq.df,\n    lat='latitude',\n    lon='longitude',\n    color='DART_quality_control',\n    hover_data={'DART_quality_control':True,\n                'type': True,\n                'observation': True,\n                'obs_num': True\n    },\n    title='Geographic Plot of Latitude and Longitude'\n)\n\nfig.update_layout(\n    width=950,  # Set the width of the plot\n)\nfig"
      ]
    }
  ],
  "metadata": {
    "kernelspec": {
      "display_name": "Python 3",
      "language": "python",
      "name": "python3"
    },
    "language_info": {
      "codemirror_mode": {
        "name": "ipython",
        "version": 3
      },
      "file_extension": ".py",
      "mimetype": "text/x-python",
      "name": "python",
      "nbconvert_exporter": "python",
      "pygments_lexer": "ipython3",
      "version": "3.13.2"
    }
  },
  "nbformat": 4,
  "nbformat_minor": 0
}