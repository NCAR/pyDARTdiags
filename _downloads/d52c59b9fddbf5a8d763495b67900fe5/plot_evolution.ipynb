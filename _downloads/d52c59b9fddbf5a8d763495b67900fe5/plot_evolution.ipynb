{
  "cells": [
    {
      "cell_type": "markdown",
      "metadata": {},
      "source": [
        "\n# Plot Evolution\n\nThis example demonstrates how to plot the evolution of RMSE, bias, or totalspread.\nFor an explanation of the statistics calculations see the `statistics` guide.\n"
      ]
    },
    {
      "cell_type": "markdown",
      "metadata": {},
      "source": [
        "Import the obs_sequence module\nand the matplots module for plotting.\n\n"
      ]
    },
    {
      "cell_type": "code",
      "execution_count": null,
      "metadata": {
        "collapsed": false
      },
      "outputs": [],
      "source": [
        "import pydartdiags.obs_sequence.obs_sequence as obsq\nfrom pydartdiags.matplots import matplots as mp"
      ]
    },
    {
      "cell_type": "markdown",
      "metadata": {},
      "source": [
        "Chose an obs_seq file to read.\nIn this example, we are using \"obs_seq.final.lorenz_96\" which is from\na Lorenz 96 model run with the DART assimilation system.\nThe obs_seq.final.lorenz_96 file comes with the pyDARTdiags package\nin the data directory, so we ``import os`` to get the path to the file.\n\n"
      ]
    },
    {
      "cell_type": "code",
      "execution_count": null,
      "metadata": {
        "collapsed": false
      },
      "outputs": [],
      "source": [
        "import os\ndata_dir = os.path.join(os.getcwd(), \"../..\", \"data\")\ndata_file = os.path.join(data_dir, \"obs_seq.final.lorenz_96\")"
      ]
    },
    {
      "cell_type": "markdown",
      "metadata": {},
      "source": [
        "Read the obs_seq file into an obs_seq object.\n\n"
      ]
    },
    {
      "cell_type": "code",
      "execution_count": null,
      "metadata": {
        "collapsed": false
      },
      "outputs": [],
      "source": [
        "obs_seq = obsq.ObsSequence(data_file)"
      ]
    },
    {
      "cell_type": "code",
      "execution_count": null,
      "metadata": {
        "collapsed": false
      },
      "outputs": [],
      "source": [
        "fig = mp.plot_evolution(\n    obs_seq=obs_seq,\n    type=\"RAW_STATE_VARIABLE\",\n    time_bin_width=\"3600s\",  # 1-hour bins\n    stat=\"rmse\",\n    tick_interval=24,\n    time_format=\"%d\", # days\n    plot_pvu=False\n)"
      ]
    },
    {
      "cell_type": "markdown",
      "metadata": {},
      "source": [
        "To plot the bias, set stat=\"bias\". Let's also plot the \npossible vs used observations.\n\n"
      ]
    },
    {
      "cell_type": "code",
      "execution_count": null,
      "metadata": {
        "collapsed": false
      },
      "outputs": [],
      "source": [
        "fig = mp.plot_evolution(\n    obs_seq=obs_seq,\n    type=\"RAW_STATE_VARIABLE\",\n    time_bin_width=\"3600s\",  # 1-hour bins\n    stat=\"bias\",\n    tick_interval=24,\n    time_format=\"%d\", # days\n    plot_pvu=True\n)"
      ]
    },
    {
      "cell_type": "markdown",
      "metadata": {},
      "source": [
        "The legend is being covered by the 'used vs. assimilated' observation count,\nso let's move the legend to the lower right corner.\nWe can do this by accessing the [matplotlib](https://matplotlib.org/stable/)\naxes object from the figure and using the `legend` method to move the legend. \n\n"
      ]
    },
    {
      "cell_type": "code",
      "execution_count": null,
      "metadata": {
        "collapsed": false
      },
      "outputs": [],
      "source": [
        "fig = mp.plot_evolution(\n    obs_seq=obs_seq,\n    type=\"RAW_STATE_VARIABLE\",\n    time_bin_width=\"3600s\",  # 1-hour bins\n    stat=\"bias\",\n    tick_interval=24,\n    time_format=\"%d\", # days\n    plot_pvu=True\n)\n\n# Get the Axes object from the figure\nax = fig.axes[0]  # Axis 0 refers to the first Axes object\n\n# Move the legend to a new location\nlegend = ax.legend(loc=\"lower right\")"
      ]
    }
  ],
  "metadata": {
    "kernelspec": {
      "display_name": "Python 3",
      "language": "python",
      "name": "python3"
    },
    "language_info": {
      "codemirror_mode": {
        "name": "ipython",
        "version": 3
      },
      "file_extension": ".py",
      "mimetype": "text/x-python",
      "name": "python",
      "nbconvert_exporter": "python",
      "pygments_lexer": "ipython3",
      "version": "3.13.4"
    }
  },
  "nbformat": 4,
  "nbformat_minor": 0
}